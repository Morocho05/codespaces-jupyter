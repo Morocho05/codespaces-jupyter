{
 "cells": [
  {
   "cell_type": "code",
   "execution_count": 2,
   "metadata": {},
   "outputs": [
    {
     "name": "stdout",
     "output_type": "stream",
     "text": [
      "x is bigger than 2\n"
     ]
    }
   ],
   "source": [
    "x = 10\n",
    "if x > 2:\n",
    "    print(\"x is bigger than 2\")\n",
    "elif x < 0:\n",
    "    print(\"x is a negative\")\n",
    "else:\n",
    "    print(\"x is 0, 1, or 2\")"
   ]
  },
  {
   "cell_type": "code",
   "execution_count": 21,
   "metadata": {},
   "outputs": [
    {
     "data": {
      "text/plain": [
       "'Hello World!'"
      ]
     },
     "execution_count": 21,
     "metadata": {},
     "output_type": "execute_result"
    }
   ],
   "source": [
    "\"Hello World\""
   ]
  },
  {
   "cell_type": "code",
   "execution_count": 6,
   "metadata": {},
   "outputs": [
    {
     "name": "stdout",
     "output_type": "stream",
     "text": [
      "value is odd\n",
      "value is  4427\n"
     ]
    }
   ],
   "source": [
    "import random\n",
    "value = random.randint(1000,9999)\n",
    "\n",
    "if value % 2 == 1:\n",
    "    print(\"value is odd\")\n",
    "print(\"value is \", value) "
   ]
  },
  {
   "cell_type": "code",
   "execution_count": 7,
   "metadata": {},
   "outputs": [],
   "source": [
    "evens = 0\n",
    "odds = 0"
   ]
  },
  {
   "cell_type": "code",
   "execution_count": 18,
   "metadata": {},
   "outputs": [
    {
     "name": "stdout",
     "output_type": "stream",
     "text": [
      "value is odd\n",
      "value is  4415\n",
      "odds 8\n",
      "evens 3\n"
     ]
    }
   ],
   "source": [
    "value = random.randint(1000,9999)\n",
    "if value % 2 == 1:\n",
    "    print(\"value is odd\")\n",
    "    odds = odds + 1\n",
    "else:\n",
    "    evens +=1\n",
    "print(\"value is \", value) \n",
    "print(\"odds\", odds)\n",
    "print(\"evens\", evens)"
   ]
  },
  {
   "cell_type": "code",
   "execution_count": 20,
   "metadata": {},
   "outputs": [
    {
     "name": "stdout",
     "output_type": "stream",
     "text": [
      "value is odd\n",
      "value is 6435\n",
      "odds 9\n",
      "evens 3\n",
      "value is odd\n",
      "value is 8043\n",
      "odds 10\n",
      "evens 3\n",
      "value is 4208\n",
      "odds 10\n",
      "evens 4\n",
      "value is 8726\n",
      "odds 10\n",
      "evens 5\n",
      "value is 9648\n",
      "odds 10\n",
      "evens 6\n",
      "value is odd\n",
      "value is 8035\n",
      "odds 11\n",
      "evens 6\n",
      "value is 9178\n",
      "odds 11\n",
      "evens 7\n",
      "value is 6832\n",
      "odds 11\n",
      "evens 8\n",
      "value is 3544\n",
      "odds 11\n",
      "evens 9\n",
      "value is odd\n",
      "value is 8961\n",
      "odds 12\n",
      "evens 9\n",
      "value is 7960\n",
      "odds 12\n",
      "evens 10\n",
      "value is 9102\n",
      "odds 12\n",
      "evens 11\n",
      "value is 6840\n",
      "odds 12\n",
      "evens 12\n",
      "value is odd\n",
      "value is 8319\n",
      "odds 13\n",
      "evens 12\n",
      "value is odd\n",
      "value is 5589\n",
      "odds 14\n",
      "evens 12\n",
      "value is 4466\n",
      "odds 14\n",
      "evens 13\n",
      "value is 4744\n",
      "odds 14\n",
      "evens 14\n",
      "value is odd\n",
      "value is 6627\n",
      "odds 15\n",
      "evens 14\n",
      "value is 9556\n",
      "odds 15\n",
      "evens 15\n",
      "value is odd\n",
      "value is 4323\n",
      "odds 16\n",
      "evens 15\n",
      "value is odd\n",
      "value is 9239\n",
      "odds 17\n",
      "evens 15\n",
      "value is 2340\n",
      "odds 17\n",
      "evens 16\n",
      "value is odd\n",
      "value is 5771\n",
      "odds 18\n",
      "evens 16\n",
      "value is 8728\n",
      "odds 18\n",
      "evens 17\n",
      "value is odd\n",
      "value is 3765\n",
      "odds 19\n",
      "evens 17\n",
      "value is odd\n",
      "value is 4669\n",
      "odds 20\n",
      "evens 17\n",
      "value is odd\n",
      "value is 5301\n",
      "odds 21\n",
      "evens 17\n",
      "value is odd\n",
      "value is 6245\n",
      "odds 22\n",
      "evens 17\n",
      "value is 1586\n",
      "odds 22\n",
      "evens 18\n",
      "value is odd\n",
      "value is 3771\n",
      "odds 23\n",
      "evens 18\n",
      "value is 6940\n",
      "odds 23\n",
      "evens 19\n",
      "value is 9218\n",
      "odds 23\n",
      "evens 20\n",
      "value is odd\n",
      "value is 7493\n",
      "odds 24\n",
      "evens 20\n",
      "value is odd\n",
      "value is 8931\n",
      "odds 25\n",
      "evens 20\n",
      "value is odd\n",
      "value is 3397\n",
      "odds 26\n",
      "evens 20\n",
      "value is odd\n",
      "value is 5539\n",
      "odds 27\n",
      "evens 20\n",
      "value is odd\n",
      "value is 8807\n",
      "odds 28\n",
      "evens 20\n",
      "value is odd\n",
      "value is 6897\n",
      "odds 29\n",
      "evens 20\n",
      "value is 4572\n",
      "odds 29\n",
      "evens 21\n",
      "value is 3578\n",
      "odds 29\n",
      "evens 22\n",
      "value is 3006\n",
      "odds 29\n",
      "evens 23\n",
      "value is 4740\n",
      "odds 29\n",
      "evens 24\n",
      "value is 3270\n",
      "odds 29\n",
      "evens 25\n",
      "value is 2330\n",
      "odds 29\n",
      "evens 26\n",
      "value is odd\n",
      "value is 4257\n",
      "odds 30\n",
      "evens 26\n",
      "value is 8376\n",
      "odds 30\n",
      "evens 27\n",
      "value is 3540\n",
      "odds 30\n",
      "evens 28\n",
      "value is 3874\n",
      "odds 30\n",
      "evens 29\n",
      "value is odd\n",
      "value is 8105\n",
      "odds 31\n",
      "evens 29\n",
      "value is odd\n",
      "value is 3501\n",
      "odds 32\n",
      "evens 29\n"
     ]
    }
   ],
   "source": [
    "count = 0\n",
    "\n",
    "while count < 50:\n",
    "    value = random.randint(1000,9999)\n",
    "    if value % 2 == 1:\n",
    "        print(\"value is odd\")\n",
    "        odds = odds +1\n",
    "    else:\n",
    "        evens +=1\n",
    "    print(\"value is\", value)\n",
    "    print(\"odds\", odds)\n",
    "    print(\"evens\", evens)\n",
    "    count += 1"
   ]
  }
 ],
 "metadata": {
  "kernelspec": {
   "display_name": "Python 3",
   "language": "python",
   "name": "python3"
  },
  "language_info": {
   "codemirror_mode": {
    "name": "ipython",
    "version": 3
   },
   "file_extension": ".py",
   "mimetype": "text/x-python",
   "name": "python",
   "nbconvert_exporter": "python",
   "pygments_lexer": "ipython3",
   "version": "3.10.8"
  },
  "orig_nbformat": 4
 },
 "nbformat": 4,
 "nbformat_minor": 2
}
